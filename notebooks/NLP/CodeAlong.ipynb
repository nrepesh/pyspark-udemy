{
 "cells": [
  {
   "cell_type": "code",
   "execution_count": 1,
   "id": "49a49071-4a77-4830-9da7-8bd69b95f62b",
   "metadata": {},
   "outputs": [],
   "source": [
    "from pyspark.sql import SparkSession"
   ]
  },
  {
   "cell_type": "code",
   "execution_count": 2,
   "id": "22b3f3bc-9303-42d1-affc-881c01777f2e",
   "metadata": {},
   "outputs": [],
   "source": [
    "spark = SparkSession.builder.appName('nlp').getOrCreate()"
   ]
  },
  {
   "cell_type": "code",
   "execution_count": 8,
   "id": "904c75d7-afb8-486d-8a4d-d1554f9d829f",
   "metadata": {},
   "outputs": [],
   "source": [
    "data = spark.read.csv('./data/SMSSpamCollection', inferSchema=True, sep='\\t')"
   ]
  },
  {
   "cell_type": "code",
   "execution_count": 9,
   "id": "6792cdf1-4722-49f6-bc2e-83492fa7d1a6",
   "metadata": {},
   "outputs": [],
   "source": [
    "data = data.withColumnRenamed('_c0','class').withColumnRenamed('_c1','text')"
   ]
  },
  {
   "cell_type": "code",
   "execution_count": 10,
   "id": "aa6bfa6a-35ef-4127-ac7f-7ae36f48dcfe",
   "metadata": {},
   "outputs": [
    {
     "name": "stdout",
     "output_type": "stream",
     "text": [
      "+-----+--------------------+\n",
      "|class|                text|\n",
      "+-----+--------------------+\n",
      "|  ham|Go until jurong p...|\n",
      "|  ham|Ok lar... Joking ...|\n",
      "| spam|Free entry in 2 a...|\n",
      "|  ham|U dun say so earl...|\n",
      "|  ham|Nah I don't think...|\n",
      "| spam|FreeMsg Hey there...|\n",
      "|  ham|Even my brother i...|\n",
      "|  ham|As per your reque...|\n",
      "| spam|WINNER!! As a val...|\n",
      "| spam|Had your mobile 1...|\n",
      "|  ham|I'm gonna be home...|\n",
      "| spam|SIX chances to wi...|\n",
      "| spam|URGENT! You have ...|\n",
      "|  ham|I've been searchi...|\n",
      "|  ham|I HAVE A DATE ON ...|\n",
      "| spam|XXXMobileMovieClu...|\n",
      "|  ham|Oh k...i'm watchi...|\n",
      "|  ham|Eh u remember how...|\n",
      "|  ham|Fine if thats th...|\n",
      "| spam|England v Macedon...|\n",
      "+-----+--------------------+\n",
      "only showing top 20 rows\n",
      "\n"
     ]
    }
   ],
   "source": [
    "data.show()"
   ]
  },
  {
   "cell_type": "code",
   "execution_count": 11,
   "id": "c42adab4-74d7-402d-bba7-f3385d2ad2b9",
   "metadata": {},
   "outputs": [],
   "source": [
    "from pyspark.sql.functions import length "
   ]
  },
  {
   "cell_type": "code",
   "execution_count": 12,
   "id": "c258fd38-8620-4863-984a-46bbc9765fec",
   "metadata": {},
   "outputs": [],
   "source": [
    "data = data.withColumn('length', length(data['text']))"
   ]
  },
  {
   "cell_type": "code",
   "execution_count": 13,
   "id": "c4a3c0cc-56e2-46f2-82fe-870093ffe64d",
   "metadata": {},
   "outputs": [
    {
     "name": "stdout",
     "output_type": "stream",
     "text": [
      "+-----+--------------------+------+\n",
      "|class|                text|length|\n",
      "+-----+--------------------+------+\n",
      "|  ham|Go until jurong p...|   111|\n",
      "|  ham|Ok lar... Joking ...|    29|\n",
      "| spam|Free entry in 2 a...|   155|\n",
      "|  ham|U dun say so earl...|    49|\n",
      "|  ham|Nah I don't think...|    61|\n",
      "| spam|FreeMsg Hey there...|   147|\n",
      "|  ham|Even my brother i...|    77|\n",
      "|  ham|As per your reque...|   160|\n",
      "| spam|WINNER!! As a val...|   157|\n",
      "| spam|Had your mobile 1...|   154|\n",
      "|  ham|I'm gonna be home...|   109|\n",
      "| spam|SIX chances to wi...|   136|\n",
      "| spam|URGENT! You have ...|   155|\n",
      "|  ham|I've been searchi...|   196|\n",
      "|  ham|I HAVE A DATE ON ...|    35|\n",
      "| spam|XXXMobileMovieClu...|   149|\n",
      "|  ham|Oh k...i'm watchi...|    26|\n",
      "|  ham|Eh u remember how...|    81|\n",
      "|  ham|Fine if thats th...|    56|\n",
      "| spam|England v Macedon...|   155|\n",
      "+-----+--------------------+------+\n",
      "only showing top 20 rows\n",
      "\n"
     ]
    }
   ],
   "source": [
    "data.show()"
   ]
  },
  {
   "cell_type": "code",
   "execution_count": 14,
   "id": "6fb3f706-c8a1-426e-9472-c578cac4680a",
   "metadata": {},
   "outputs": [
    {
     "name": "stdout",
     "output_type": "stream",
     "text": [
      "+-----+-----------------+\n",
      "|class|      avg(length)|\n",
      "+-----+-----------------+\n",
      "|  ham|71.45431945307645|\n",
      "| spam|138.6706827309237|\n",
      "+-----+-----------------+\n",
      "\n"
     ]
    }
   ],
   "source": [
    "data.groupBy('class').mean().show()"
   ]
  },
  {
   "cell_type": "code",
   "execution_count": 15,
   "id": "ee7eaef2-e8f0-4f93-ab3e-7b6a3d02cd7e",
   "metadata": {},
   "outputs": [],
   "source": [
    "from pyspark.ml.feature import Tokenizer, StopWordsRemover, CountVectorizer, IDF, StringIndexer"
   ]
  },
  {
   "cell_type": "code",
   "execution_count": 19,
   "id": "a1421054-bdc6-49d6-98d7-e5998e441dad",
   "metadata": {},
   "outputs": [],
   "source": [
    "tokenizer = Tokenizer(inputCol='text', outputCol='token_text')\n",
    "stop_remove = StopWordsRemover(inputCol='token_text', outputCol='stop_token')\n",
    "count_vec = CountVectorizer(inputCol='stop_token', outputCol='c_vec')\n",
    "idf = IDF(inputCol='c_vec', outputCol='tf_idf')\n",
    "ham_spam_to_numeric = StringIndexer(inputCol='class', outputCol='label')"
   ]
  },
  {
   "cell_type": "code",
   "execution_count": 20,
   "id": "c4e9378a-051b-46ac-a6ea-a0b008c797f3",
   "metadata": {},
   "outputs": [],
   "source": [
    "from pyspark.ml.feature import VectorAssembler"
   ]
  },
  {
   "cell_type": "code",
   "execution_count": 21,
   "id": "5e9b9e1f-8a08-4136-b0b1-450ab6a803a4",
   "metadata": {},
   "outputs": [],
   "source": [
    "clean_up = VectorAssembler(inputCols=['tf_idf','length'], outputCol='features')"
   ]
  },
  {
   "cell_type": "code",
   "execution_count": 22,
   "id": "6570ab37-c808-44f0-9a9b-bfc8dbc45cbb",
   "metadata": {},
   "outputs": [],
   "source": [
    "from pyspark.ml.classification import NaiveBayes"
   ]
  },
  {
   "cell_type": "code",
   "execution_count": 23,
   "id": "d4fb60a6-b6a0-4d82-8e4f-b9503aa6cdb9",
   "metadata": {},
   "outputs": [],
   "source": [
    "nb = NaiveBayes()"
   ]
  },
  {
   "cell_type": "code",
   "execution_count": 24,
   "id": "677b219a-f94c-4e6a-b297-42cf18225c87",
   "metadata": {},
   "outputs": [],
   "source": [
    "from pyspark.ml import Pipeline"
   ]
  },
  {
   "cell_type": "code",
   "execution_count": 25,
   "id": "c83287ec-cf78-4622-a7e8-593d86065e2d",
   "metadata": {},
   "outputs": [],
   "source": [
    "data_prep_pipe = Pipeline(stages=[ham_spam_to_numeric, tokenizer, stop_remove, count_vec, idf, clean_up])"
   ]
  },
  {
   "cell_type": "code",
   "execution_count": 26,
   "id": "ebc9ba10-5233-43ad-9a77-9ddd70611246",
   "metadata": {},
   "outputs": [],
   "source": [
    "cleaner = data_prep_pipe.fit(data)"
   ]
  },
  {
   "cell_type": "code",
   "execution_count": 27,
   "id": "d105eb54-4dcf-4375-8d47-4cea0f632bca",
   "metadata": {},
   "outputs": [],
   "source": [
    "clean_data = cleaner.transform(data)"
   ]
  },
  {
   "cell_type": "code",
   "execution_count": 28,
   "id": "7777688b-4654-45ff-97be-f062f8fb25ab",
   "metadata": {},
   "outputs": [],
   "source": [
    "clean_data = clean_data.select('label','features')"
   ]
  },
  {
   "cell_type": "code",
   "execution_count": 33,
   "id": "fe7dfea9-cb03-4faf-a727-824ee9c528ff",
   "metadata": {},
   "outputs": [],
   "source": [
    "training,test = clean_data.randomSplit([0.7,0.3])"
   ]
  },
  {
   "cell_type": "code",
   "execution_count": 34,
   "id": "efca5ccc-458a-44a6-a2a7-af20fe785f99",
   "metadata": {},
   "outputs": [],
   "source": [
    "spam_detector = nb.fit(training)"
   ]
  },
  {
   "cell_type": "code",
   "execution_count": 35,
   "id": "d36a9f40-626b-457a-9ca4-f8017d4a9906",
   "metadata": {},
   "outputs": [
    {
     "name": "stdout",
     "output_type": "stream",
     "text": [
      "root\n",
      " |-- class: string (nullable = true)\n",
      " |-- text: string (nullable = true)\n",
      " |-- length: integer (nullable = true)\n",
      "\n"
     ]
    }
   ],
   "source": [
    "data.printSchema()"
   ]
  },
  {
   "cell_type": "code",
   "execution_count": 37,
   "id": "0af56977-7bfe-42ee-9a2f-43b7f4dca481",
   "metadata": {},
   "outputs": [],
   "source": [
    "test_results = spam_detector.transform(test)"
   ]
  },
  {
   "cell_type": "code",
   "execution_count": 38,
   "id": "f3607feb-ce55-4109-838a-8eaeb3ada141",
   "metadata": {},
   "outputs": [
    {
     "name": "stdout",
     "output_type": "stream",
     "text": [
      "+-----+--------------------+--------------------+--------------------+----------+\n",
      "|label|            features|       rawPrediction|         probability|prediction|\n",
      "+-----+--------------------+--------------------+--------------------+----------+\n",
      "|  0.0|(13424,[0,1,2,7,8...|[-812.24736163862...|[1.0,2.1714230380...|       0.0|\n",
      "|  0.0|(13424,[0,1,5,20,...|[-823.01404567932...|[1.0,8.2367184739...|       0.0|\n",
      "|  0.0|(13424,[0,1,9,14,...|[-535.28512395859...|[1.0,7.4356935111...|       0.0|\n",
      "|  0.0|(13424,[0,1,14,79...|[-693.23676245223...|[1.0,4.8563911688...|       0.0|\n",
      "|  0.0|(13424,[0,1,20,27...|[-987.45384603376...|[0.99999999818543...|       0.0|\n",
      "|  0.0|(13424,[0,1,21,27...|[-750.24995736561...|[1.0,1.9044798995...|       0.0|\n",
      "|  0.0|(13424,[0,1,21,27...|[-1010.6222560654...|[1.0,1.2641875008...|       0.0|\n",
      "|  0.0|(13424,[0,1,23,63...|[-1313.8649135391...|[1.0,3.7056848962...|       0.0|\n",
      "|  0.0|(13424,[0,1,27,85...|[-1526.3697531037...|[1.97010943513813...|       1.0|\n",
      "|  0.0|(13424,[0,1,30,11...|[-636.35418235218...|[0.99999999995531...|       0.0|\n",
      "|  0.0|(13424,[0,1,46,17...|[-1142.6921374371...|[7.81016085440642...|       1.0|\n",
      "|  0.0|(13424,[0,1,150,1...|[-254.37397981709...|[0.02153881915214...|       1.0|\n",
      "|  0.0|(13424,[0,1,881,1...|[-95.262825756455...|[0.99999998574516...|       0.0|\n",
      "|  0.0|(13424,[0,1,881,1...|[-96.942591102925...|[0.99999998917781...|       0.0|\n",
      "|  0.0|(13424,[0,2,3,5,6...|[-2575.4221172965...|[1.0,2.7281262089...|       0.0|\n",
      "|  0.0|(13424,[0,2,3,5,3...|[-492.74415711944...|[1.0,6.9812235292...|       0.0|\n",
      "|  0.0|(13424,[0,2,3,6,9...|[-3298.0338877092...|[1.0,1.2190206877...|       0.0|\n",
      "|  0.0|(13424,[0,2,4,5,7...|[-998.27820879418...|[1.0,2.3752633774...|       0.0|\n",
      "|  0.0|(13424,[0,2,4,5,1...|[-2499.4532528656...|[1.0,3.6323234530...|       0.0|\n",
      "|  0.0|(13424,[0,2,4,8,2...|[-1416.4838838775...|[1.0,1.7197958211...|       0.0|\n",
      "+-----+--------------------+--------------------+--------------------+----------+\n",
      "only showing top 20 rows\n",
      "\n"
     ]
    }
   ],
   "source": [
    "test_results.show()"
   ]
  },
  {
   "cell_type": "code",
   "execution_count": 39,
   "id": "e99c76ad-5368-4466-9ba4-836225cd77b0",
   "metadata": {},
   "outputs": [],
   "source": [
    "from pyspark.ml.evaluation import MulticlassClassificationEvaluator"
   ]
  },
  {
   "cell_type": "code",
   "execution_count": 40,
   "id": "17bd1a9a-4810-4faf-bf7d-6bf9177b845a",
   "metadata": {},
   "outputs": [],
   "source": [
    "acc_eval = MulticlassClassificationEvaluator()"
   ]
  },
  {
   "cell_type": "code",
   "execution_count": 41,
   "id": "e6c56cd0-36b8-4749-a5a4-0d980b8648c2",
   "metadata": {},
   "outputs": [],
   "source": [
    "acc = acc_eval.evaluate(test_results)"
   ]
  },
  {
   "cell_type": "code",
   "execution_count": 43,
   "id": "e92cfeb8-6f10-4983-b3bb-1f7811dc8259",
   "metadata": {},
   "outputs": [
    {
     "name": "stdout",
     "output_type": "stream",
     "text": [
      "ACC of NB model\n",
      "0.9168810497165044\n"
     ]
    }
   ],
   "source": [
    "print('ACC of NB model')\n",
    "print(acc)"
   ]
  },
  {
   "cell_type": "code",
   "execution_count": null,
   "id": "2c885e44-38da-425f-9e90-bb7f72b08b11",
   "metadata": {},
   "outputs": [],
   "source": []
  }
 ],
 "metadata": {
  "kernelspec": {
   "display_name": "Python 3 (ipykernel)",
   "language": "python",
   "name": "python3"
  },
  "language_info": {
   "codemirror_mode": {
    "name": "ipython",
    "version": 3
   },
   "file_extension": ".py",
   "mimetype": "text/x-python",
   "name": "python",
   "nbconvert_exporter": "python",
   "pygments_lexer": "ipython3",
   "version": "3.11.5"
  }
 },
 "nbformat": 4,
 "nbformat_minor": 5
}
