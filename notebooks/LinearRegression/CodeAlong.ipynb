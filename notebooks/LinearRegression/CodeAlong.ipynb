{
 "cells": [
  {
   "cell_type": "markdown",
   "id": "41ee63b9-e453-4a14-8d95-99698dff6539",
   "metadata": {},
   "source": [
    "# E-commerce data"
   ]
  },
  {
   "cell_type": "code",
   "execution_count": 1,
   "id": "4d8e7ea7-935c-4b98-9d8f-4ce8ae370899",
   "metadata": {},
   "outputs": [],
   "source": [
    "from pyspark.sql import SparkSession"
   ]
  },
  {
   "cell_type": "code",
   "execution_count": 2,
   "id": "0b7f6eb1-1b3e-4043-956b-e9ece2a12082",
   "metadata": {},
   "outputs": [],
   "source": [
    "spark = SparkSession.builder.appName('lr_example').getOrCreate()"
   ]
  },
  {
   "cell_type": "code",
   "execution_count": 3,
   "id": "6d938d3a-4f81-4984-bf25-dbb4eeb312d9",
   "metadata": {},
   "outputs": [],
   "source": [
    "from pyspark.ml.regression import LinearRegression"
   ]
  },
  {
   "cell_type": "code",
   "execution_count": 5,
   "id": "50c45d13-00f9-4a9d-85b9-795a6d5484a4",
   "metadata": {},
   "outputs": [],
   "source": [
    "data = spark.read.csv(\"./data/Ecommerce_Customers.csv\", inferSchema=True, header=True)"
   ]
  },
  {
   "cell_type": "code",
   "execution_count": 7,
   "id": "87a9d740-11f6-45cf-a514-5fd294d6614b",
   "metadata": {},
   "outputs": [
    {
     "name": "stdout",
     "output_type": "stream",
     "text": [
      "root\n",
      " |-- Email: string (nullable = true)\n",
      " |-- Address: string (nullable = true)\n",
      " |-- Avatar: string (nullable = true)\n",
      " |-- Avg Session Length: double (nullable = true)\n",
      " |-- Time on App: double (nullable = true)\n",
      " |-- Time on Website: double (nullable = true)\n",
      " |-- Length of Membership: double (nullable = true)\n",
      " |-- Yearly Amount Spent: double (nullable = true)\n",
      "\n"
     ]
    }
   ],
   "source": [
    "data.printSchema()"
   ]
  },
  {
   "cell_type": "code",
   "execution_count": 11,
   "id": "e813336e-58f3-4f83-b45f-7bdce6107ac9",
   "metadata": {},
   "outputs": [
    {
     "name": "stdout",
     "output_type": "stream",
     "text": [
      "mstephenson@fernandez.com\n",
      "835 Frank TunnelWrightmouth, MI 82180-9605\n",
      "Violet\n",
      "34.49726772511229\n",
      "12.65565114916675\n",
      "39.57766801952616\n",
      "4.0826206329529615\n",
      "587.9510539684005\n"
     ]
    }
   ],
   "source": [
    "for item in data.head(1)[0]:\n",
    "    print(item)"
   ]
  },
  {
   "cell_type": "code",
   "execution_count": 13,
   "id": "4f78c6b3-7ed8-4d6a-943e-f04d9a25bd24",
   "metadata": {},
   "outputs": [],
   "source": [
    "from pyspark.ml.linalg import Vectors \n",
    "from pyspark.ml.feature import VectorAssembler "
   ]
  },
  {
   "cell_type": "code",
   "execution_count": 15,
   "id": "fed681be-a9cf-44d7-ba82-96da74b5994a",
   "metadata": {},
   "outputs": [
    {
     "data": {
      "text/plain": [
       "['Email',\n",
       " 'Address',\n",
       " 'Avatar',\n",
       " 'Avg Session Length',\n",
       " 'Time on App',\n",
       " 'Time on Website',\n",
       " 'Length of Membership',\n",
       " 'Yearly Amount Spent']"
      ]
     },
     "execution_count": 15,
     "metadata": {},
     "output_type": "execute_result"
    }
   ],
   "source": [
    "data.columns"
   ]
  },
  {
   "cell_type": "code",
   "execution_count": 19,
   "id": "819e25fd-0c41-41a1-84d9-c73da3823817",
   "metadata": {},
   "outputs": [],
   "source": [
    "assembler = VectorAssembler(\n",
    "    inputCols = [\n",
    "        'Avg Session Length',\n",
    "        'Time on App',\n",
    "        'Time on Website',\n",
    "        'Length of Membership'\n",
    "    ],\n",
    "    outputCol='features'\n",
    ")"
   ]
  },
  {
   "cell_type": "code",
   "execution_count": 20,
   "id": "86d02cd3-46b1-4a60-8592-b59fdf452c9f",
   "metadata": {},
   "outputs": [],
   "source": [
    "output = assembler.transform(data)  # No train test split yet"
   ]
  },
  {
   "cell_type": "code",
   "execution_count": 21,
   "id": "9c87b1d3-c614-44ba-aad8-73e83303c4e6",
   "metadata": {},
   "outputs": [
    {
     "data": {
      "text/plain": [
       "[Row(Email='mstephenson@fernandez.com', Address='835 Frank TunnelWrightmouth, MI 82180-9605', Avatar='Violet', Avg Session Length=34.49726772511229, Time on App=12.65565114916675, Time on Website=39.57766801952616, Length of Membership=4.0826206329529615, Yearly Amount Spent=587.9510539684005, features=DenseVector([34.4973, 12.6557, 39.5777, 4.0826]))]"
      ]
     },
     "execution_count": 21,
     "metadata": {},
     "output_type": "execute_result"
    }
   ],
   "source": [
    "output.head(1)"
   ]
  },
  {
   "cell_type": "code",
   "execution_count": 22,
   "id": "be573f4d-1885-442f-a106-404b29b1c4ca",
   "metadata": {},
   "outputs": [],
   "source": [
    "final_data = output.select('features', 'Yearly Amount Spent')"
   ]
  },
  {
   "cell_type": "code",
   "execution_count": 23,
   "id": "fe51113c-1201-485e-99b3-73c0f081c6c6",
   "metadata": {},
   "outputs": [
    {
     "name": "stdout",
     "output_type": "stream",
     "text": [
      "+--------------------+-------------------+\n",
      "|            features|Yearly Amount Spent|\n",
      "+--------------------+-------------------+\n",
      "|[34.4972677251122...|  587.9510539684005|\n",
      "|[31.9262720263601...|  392.2049334443264|\n",
      "|[33.0009147556426...| 487.54750486747207|\n",
      "|[34.3055566297555...|  581.8523440352177|\n",
      "|[33.3306725236463...|  599.4060920457634|\n",
      "|[33.8710378793419...|   637.102447915074|\n",
      "|[32.0215955013870...|  521.5721747578274|\n",
      "|[32.7391429383803...|  549.9041461052942|\n",
      "|[33.9877728956856...|  570.2004089636196|\n",
      "|[31.9365486184489...|  427.1993848953282|\n",
      "|[33.9925727749537...|  492.6060127179966|\n",
      "|[33.8793608248049...|  522.3374046069357|\n",
      "|[29.5324289670579...|  408.6403510726275|\n",
      "|[33.1903340437226...|  573.4158673313865|\n",
      "|[32.3879758531538...|  470.4527333009554|\n",
      "|[30.7377203726281...|  461.7807421962299|\n",
      "|[32.1253868972878...| 457.84769594494855|\n",
      "|[32.3388993230671...| 407.70454754954415|\n",
      "|[32.1878120459321...|  452.3156754800354|\n",
      "|[32.6178560628234...|   605.061038804892|\n",
      "+--------------------+-------------------+\n",
      "only showing top 20 rows\n",
      "\n"
     ]
    }
   ],
   "source": [
    "final_data.show()"
   ]
  },
  {
   "cell_type": "code",
   "execution_count": 24,
   "id": "7c873ee7-6c39-4409-818a-7f37f1ab56f7",
   "metadata": {},
   "outputs": [],
   "source": [
    "train_data, test_data = final_data.randomSplit([0.7,0.3])"
   ]
  },
  {
   "cell_type": "code",
   "execution_count": 25,
   "id": "cbb521cb-1165-4b99-9806-2a1db8c643c5",
   "metadata": {},
   "outputs": [
    {
     "name": "stdout",
     "output_type": "stream",
     "text": [
      "+-------+-------------------+\n",
      "|summary|Yearly Amount Spent|\n",
      "+-------+-------------------+\n",
      "|  count|                363|\n",
      "|   mean| 499.51260794250715|\n",
      "| stddev|  81.41149374801284|\n",
      "|    min| 256.67058229005585|\n",
      "|    max|  744.2218671047146|\n",
      "+-------+-------------------+\n",
      "\n"
     ]
    }
   ],
   "source": [
    "train_data.describe().show()"
   ]
  },
  {
   "cell_type": "code",
   "execution_count": 26,
   "id": "34ff8d14-a99b-49c1-830a-d54e1664136c",
   "metadata": {},
   "outputs": [
    {
     "name": "stdout",
     "output_type": "stream",
     "text": [
      "+-------+-------------------+\n",
      "|summary|Yearly Amount Spent|\n",
      "+-------+-------------------+\n",
      "|  count|                137|\n",
      "|   mean| 498.78790106690104|\n",
      "| stddev|  73.75432581273087|\n",
      "|    min|  304.1355915788555|\n",
      "|    max|  765.5184619388373|\n",
      "+-------+-------------------+\n",
      "\n"
     ]
    }
   ],
   "source": [
    "test_data.describe().show()"
   ]
  },
  {
   "cell_type": "code",
   "execution_count": 28,
   "id": "6a028cba-b0d8-46fc-9768-a67f05120b17",
   "metadata": {},
   "outputs": [],
   "source": [
    "lr = LinearRegression(labelCol='Yearly Amount Spent')"
   ]
  },
  {
   "cell_type": "code",
   "execution_count": 29,
   "id": "51a25fee-468b-47c2-80ac-e68d13e38eb5",
   "metadata": {},
   "outputs": [],
   "source": [
    "lr_model = lr.fit(train_data)"
   ]
  },
  {
   "cell_type": "code",
   "execution_count": 30,
   "id": "d8c49fab-7796-4f3f-a981-696271210fa7",
   "metadata": {},
   "outputs": [],
   "source": [
    "test_results = lr_model.evaluate(test_data)"
   ]
  },
  {
   "cell_type": "code",
   "execution_count": 31,
   "id": "13350487-d30e-4857-8190-8a85b367fec5",
   "metadata": {},
   "outputs": [
    {
     "name": "stdout",
     "output_type": "stream",
     "text": [
      "+-------------------+\n",
      "|          residuals|\n",
      "+-------------------+\n",
      "|0.45262769067102226|\n",
      "| -4.988134666353233|\n",
      "| 6.7330355322067135|\n",
      "|    5.0716634982399|\n",
      "| -6.459817998160645|\n",
      "| 1.0743107825533116|\n",
      "| -4.435001595290942|\n",
      "|  -6.70426011075017|\n",
      "| -5.136066523673435|\n",
      "|-14.698881589057464|\n",
      "|  -5.47226083397419|\n",
      "|-11.172832455619982|\n",
      "|  7.891272504816868|\n",
      "| -9.621965364361074|\n",
      "| 0.9948470479002935|\n",
      "| -2.554174063368464|\n",
      "|  -8.91193908321037|\n",
      "|-13.887650226775577|\n",
      "|  4.797676155219392|\n",
      "|  4.847969779473374|\n",
      "+-------------------+\n",
      "only showing top 20 rows\n",
      "\n"
     ]
    }
   ],
   "source": [
    "test_results.residuals.show()   # The difference between predicted and actual"
   ]
  },
  {
   "cell_type": "code",
   "execution_count": 32,
   "id": "f2e21c69-4773-4b84-a70b-f36dc399a2ff",
   "metadata": {},
   "outputs": [
    {
     "data": {
      "text/plain": [
       "9.435147064222024"
      ]
     },
     "execution_count": 32,
     "metadata": {},
     "output_type": "execute_result"
    }
   ],
   "source": [
    "test_results.rootMeanSquaredError  # root of sum of square of residuals "
   ]
  },
  {
   "cell_type": "code",
   "execution_count": 33,
   "id": "79fa8b0f-f80d-4ef8-addb-44c3848eb0af",
   "metadata": {},
   "outputs": [
    {
     "data": {
      "text/plain": [
       "0.9835144283404165"
      ]
     },
     "execution_count": 33,
     "metadata": {},
     "output_type": "execute_result"
    }
   ],
   "source": [
    "test_results.r2     # we explain 98% of the variance in the data"
   ]
  },
  {
   "cell_type": "code",
   "execution_count": 35,
   "id": "1b6b4c62-a492-4788-86f3-1e487516009e",
   "metadata": {},
   "outputs": [
    {
     "name": "stdout",
     "output_type": "stream",
     "text": [
      "+-------+-------------------+\n",
      "|summary|Yearly Amount Spent|\n",
      "+-------+-------------------+\n",
      "|  count|                500|\n",
      "|   mean|  499.3140382585909|\n",
      "| stddev|   79.3147815497068|\n",
      "|    min| 256.67058229005585|\n",
      "|    max|  765.5184619388373|\n",
      "+-------+-------------------+\n",
      "\n"
     ]
    }
   ],
   "source": [
    "final_data.describe().show()"
   ]
  },
  {
   "cell_type": "code",
   "execution_count": 36,
   "id": "72f8ad92-5989-4be2-ad3d-7e98bc7e609b",
   "metadata": {},
   "outputs": [],
   "source": [
    "unlabeled_data = test_data.select('features')"
   ]
  },
  {
   "cell_type": "code",
   "execution_count": 37,
   "id": "0d78b62e-b136-4d7f-9c3b-e22ddcf493bf",
   "metadata": {},
   "outputs": [],
   "source": [
    "predictions = lr_model.transform(unlabeled_data)"
   ]
  },
  {
   "cell_type": "code",
   "execution_count": 38,
   "id": "a737c50e-db85-490d-bcb3-7a090b7379fc",
   "metadata": {},
   "outputs": [
    {
     "name": "stdout",
     "output_type": "stream",
     "text": [
      "+--------------------+------------------+\n",
      "|            features|        prediction|\n",
      "+--------------------+------------------+\n",
      "|[30.5743636841713...|441.61178606739463|\n",
      "|[30.8364326747734...|472.49003509334284|\n",
      "|[30.9716756438877...|  487.905574224686|\n",
      "|[31.0472221394875...| 387.4257356907815|\n",
      "|[31.0613251567161...|494.01527605606225|\n",
      "|[31.3895854806643...| 408.9953002774296|\n",
      "|[31.4252268808548...| 535.2017202500529|\n",
      "|[31.4474464941278...| 425.3070022059742|\n",
      "|[31.5147378578019...|494.94855452013485|\n",
      "|[31.5741380228732...| 559.1081537496443|\n",
      "|[31.6253601348306...| 381.8091615908984|\n",
      "|[31.8093003166791...| 547.9447318184612|\n",
      "|[31.8209982016720...| 416.7840085083965|\n",
      "|[31.8279790554652...| 449.6247129113026|\n",
      "|[31.8293464559211...| 384.1574909400747|\n",
      "|[31.8530748017465...|461.83929752572044|\n",
      "|[31.8854062999117...| 399.0152120556859|\n",
      "|[31.9365486184489...|441.08703512210377|\n",
      "|[31.9480174211613...| 457.1232007376784|\n",
      "|[32.0215955013870...|  516.724204978354|\n",
      "+--------------------+------------------+\n",
      "only showing top 20 rows\n",
      "\n"
     ]
    }
   ],
   "source": [
    "predictions.show()"
   ]
  },
  {
   "cell_type": "code",
   "execution_count": 40,
   "id": "eec6ab88-0d51-45b5-8e07-7c0b2193fa01",
   "metadata": {},
   "outputs": [
    {
     "name": "stdout",
     "output_type": "stream",
     "text": [
      "+-------+------------------+\n",
      "|summary|        prediction|\n",
      "+-------+------------------+\n",
      "|  count|               137|\n",
      "|   mean| 499.4618520315426|\n",
      "| stddev| 73.48239547410215|\n",
      "|    min|313.98405652874635|\n",
      "|    max| 767.0341737273609|\n",
      "+-------+------------------+\n",
      "\n"
     ]
    }
   ],
   "source": [
    "predictions.describe().show()"
   ]
  },
  {
   "cell_type": "code",
   "execution_count": null,
   "id": "3ce7895b-7615-4d21-a2e8-850b4079f768",
   "metadata": {},
   "outputs": [],
   "source": []
  }
 ],
 "metadata": {
  "kernelspec": {
   "display_name": "Python 3 (ipykernel)",
   "language": "python",
   "name": "python3"
  },
  "language_info": {
   "codemirror_mode": {
    "name": "ipython",
    "version": 3
   },
   "file_extension": ".py",
   "mimetype": "text/x-python",
   "name": "python",
   "nbconvert_exporter": "python",
   "pygments_lexer": "ipython3",
   "version": "3.11.5"
  }
 },
 "nbformat": 4,
 "nbformat_minor": 5
}
