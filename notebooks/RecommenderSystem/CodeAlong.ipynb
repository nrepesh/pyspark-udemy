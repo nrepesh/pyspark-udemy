{
 "cells": [
  {
   "cell_type": "code",
   "execution_count": 1,
   "id": "89a803cf-3818-429d-96a2-f364404f1274",
   "metadata": {},
   "outputs": [],
   "source": [
    "from pyspark.sql import SparkSession"
   ]
  },
  {
   "cell_type": "code",
   "execution_count": 2,
   "id": "5861b795-e10e-4e5c-8e31-e3489586074c",
   "metadata": {},
   "outputs": [],
   "source": [
    "spark = SparkSession.builder.appName('rec').getOrCreate()"
   ]
  },
  {
   "cell_type": "code",
   "execution_count": 3,
   "id": "30af6c51-d5a2-413b-8468-55f38404a32f",
   "metadata": {},
   "outputs": [],
   "source": [
    "from pyspark.ml.recommendation import ALS"
   ]
  },
  {
   "cell_type": "code",
   "execution_count": 4,
   "id": "244bb760-4baa-47b6-9a6a-08c10e9e6031",
   "metadata": {},
   "outputs": [],
   "source": [
    "from pyspark.ml.evaluation import RegressionEvaluator"
   ]
  },
  {
   "cell_type": "code",
   "execution_count": 7,
   "id": "a6071c5e-ccd7-4225-aeb3-8932f7fb17b5",
   "metadata": {},
   "outputs": [],
   "source": [
    "data = spark.read.csv('./data/movielens_ratings.csv',inferSchema=True,header=True)"
   ]
  },
  {
   "cell_type": "code",
   "execution_count": 8,
   "id": "5610c5c6-4f78-40de-93f5-1e2bf10b1fc5",
   "metadata": {},
   "outputs": [
    {
     "name": "stdout",
     "output_type": "stream",
     "text": [
      "+-------+------+------+\n",
      "|movieId|rating|userId|\n",
      "+-------+------+------+\n",
      "|      2|   3.0|     0|\n",
      "|      3|   1.0|     0|\n",
      "|      5|   2.0|     0|\n",
      "|      9|   4.0|     0|\n",
      "|     11|   1.0|     0|\n",
      "|     12|   2.0|     0|\n",
      "|     15|   1.0|     0|\n",
      "|     17|   1.0|     0|\n",
      "|     19|   1.0|     0|\n",
      "|     21|   1.0|     0|\n",
      "|     23|   1.0|     0|\n",
      "|     26|   3.0|     0|\n",
      "|     27|   1.0|     0|\n",
      "|     28|   1.0|     0|\n",
      "|     29|   1.0|     0|\n",
      "|     30|   1.0|     0|\n",
      "|     31|   1.0|     0|\n",
      "|     34|   1.0|     0|\n",
      "|     37|   1.0|     0|\n",
      "|     41|   2.0|     0|\n",
      "+-------+------+------+\n",
      "only showing top 20 rows\n",
      "\n"
     ]
    }
   ],
   "source": [
    "data.show()"
   ]
  },
  {
   "cell_type": "code",
   "execution_count": 10,
   "id": "3e54706c-92c3-44e5-a869-c8dad3a11551",
   "metadata": {},
   "outputs": [
    {
     "name": "stdout",
     "output_type": "stream",
     "text": [
      "+-------+------------------+------------------+------------------+\n",
      "|summary|           movieId|            rating|            userId|\n",
      "+-------+------------------+------------------+------------------+\n",
      "|  count|              1501|              1501|              1501|\n",
      "|   mean| 49.40572951365756|1.7741505662891406|14.383744170552964|\n",
      "| stddev|28.937034065088994| 1.187276166124803| 8.591040424293272|\n",
      "|    min|                 0|               1.0|                 0|\n",
      "|    max|                99|               5.0|                29|\n",
      "+-------+------------------+------------------+------------------+\n",
      "\n"
     ]
    }
   ],
   "source": [
    "data.describe().show()"
   ]
  },
  {
   "cell_type": "code",
   "execution_count": 11,
   "id": "f9627279-abc5-4d16-9b63-95cc98ba83f4",
   "metadata": {},
   "outputs": [],
   "source": [
    "training, test = data.randomSplit([0.8,0.2])"
   ]
  },
  {
   "cell_type": "code",
   "execution_count": 12,
   "id": "c3b2be50-f54e-4e3b-b728-cd63b0878ff9",
   "metadata": {},
   "outputs": [],
   "source": [
    "als = ALS(maxIter=5, regParam=0.01, userCol='userId', itemCol='movieId',ratingCol='rating')"
   ]
  },
  {
   "cell_type": "code",
   "execution_count": 13,
   "id": "8bed5842-cb14-47cb-8220-dded834883af",
   "metadata": {},
   "outputs": [],
   "source": [
    "model = als.fit(training)"
   ]
  },
  {
   "cell_type": "code",
   "execution_count": 14,
   "id": "a0f630b5-0074-4c7a-ac94-43d9b41ae213",
   "metadata": {},
   "outputs": [],
   "source": [
    "predictions = model.transform(test)"
   ]
  },
  {
   "cell_type": "code",
   "execution_count": 15,
   "id": "c8fe4ae3-3184-4525-bdea-17e7febc84d8",
   "metadata": {},
   "outputs": [
    {
     "name": "stdout",
     "output_type": "stream",
     "text": [
      "+-------+------+------+-----------+\n",
      "|movieId|rating|userId| prediction|\n",
      "+-------+------+------+-----------+\n",
      "|      6|   1.0|    28|-0.40677965|\n",
      "|      0|   1.0|    26| -1.1555917|\n",
      "|      1|   1.0|    26| -0.2993824|\n",
      "|      4|   1.0|    12|  1.6580071|\n",
      "|      3|   2.0|    22| 0.45266414|\n",
      "|      5|   2.0|    22|  1.2163234|\n",
      "|      5|   1.0|    13|  2.0514534|\n",
      "|      0|   1.0|     3|  1.4445819|\n",
      "|      2|   1.0|     3| 0.14221323|\n",
      "|      6|   2.0|    19| 0.64177036|\n",
      "|      3|   1.0|     9|  1.8905009|\n",
      "|      6|   1.0|     9| -0.1093989|\n",
      "|      6|   1.0|    17|  1.4276503|\n",
      "|      3|   2.0|     8|  1.2146015|\n",
      "|      5|   1.0|     8|  1.6667974|\n",
      "|      6|   2.0|    23|  1.6677667|\n",
      "|      0|   3.0|    10| 0.29941705|\n",
      "|      6|   3.0|    24| 0.23619089|\n",
      "|      3|   1.0|    29| -1.0510795|\n",
      "|      6|   1.0|    14|  1.5772221|\n",
      "+-------+------+------+-----------+\n",
      "only showing top 20 rows\n",
      "\n"
     ]
    }
   ],
   "source": [
    "predictions.show()"
   ]
  },
  {
   "cell_type": "code",
   "execution_count": 16,
   "id": "0bfead93-7b07-4aec-91bc-7448de4a45ae",
   "metadata": {},
   "outputs": [],
   "source": [
    "evaluator = RegressionEvaluator(metricName='rmse',labelCol='rating',predictionCol='prediction')"
   ]
  },
  {
   "cell_type": "code",
   "execution_count": 17,
   "id": "49b6f331-048c-43a1-9e69-b3198e53292e",
   "metadata": {},
   "outputs": [],
   "source": [
    "rmse = evaluator.evaluate(predictions)"
   ]
  },
  {
   "cell_type": "code",
   "execution_count": 19,
   "id": "ece4ffaa-79a4-44e8-a2b1-d26f5350b646",
   "metadata": {},
   "outputs": [
    {
     "name": "stdout",
     "output_type": "stream",
     "text": [
      "RMSE\n",
      "1.829506006274327\n"
     ]
    }
   ],
   "source": [
    "print('RMSE')\n",
    "print(rmse)"
   ]
  },
  {
   "cell_type": "code",
   "execution_count": 20,
   "id": "cd1c5f17-575d-4eac-84fe-db7ecf7e142a",
   "metadata": {},
   "outputs": [],
   "source": [
    "single_user = test.filter(test['userId']==11).select(['movieId','userId'])"
   ]
  },
  {
   "cell_type": "code",
   "execution_count": 21,
   "id": "f49ac8a5-7c34-43bc-8077-152b3b779341",
   "metadata": {},
   "outputs": [
    {
     "name": "stdout",
     "output_type": "stream",
     "text": [
      "+-------+------+\n",
      "|movieId|userId|\n",
      "+-------+------+\n",
      "|      9|    11|\n",
      "|     11|    11|\n",
      "|     13|    11|\n",
      "|     19|    11|\n",
      "|     20|    11|\n",
      "|     23|    11|\n",
      "|     35|    11|\n",
      "|     37|    11|\n",
      "|     51|    11|\n",
      "|     69|    11|\n",
      "|     70|    11|\n",
      "|     72|    11|\n",
      "|     82|    11|\n",
      "|     90|    11|\n",
      "|     94|    11|\n",
      "+-------+------+\n",
      "\n"
     ]
    }
   ],
   "source": [
    "single_user.show()"
   ]
  },
  {
   "cell_type": "code",
   "execution_count": 22,
   "id": "4144b2c7-7235-4875-8709-c96cc8a26f9e",
   "metadata": {},
   "outputs": [],
   "source": [
    "recommendations = model.transform(single_user)"
   ]
  },
  {
   "cell_type": "code",
   "execution_count": 23,
   "id": "6a6d2dac-8aad-466c-b337-c6fb61874c93",
   "metadata": {},
   "outputs": [
    {
     "name": "stdout",
     "output_type": "stream",
     "text": [
      "+-------+------+-----------+\n",
      "|movieId|userId| prediction|\n",
      "+-------+------+-----------+\n",
      "|     69|    11|  3.8354487|\n",
      "|     11|    11|  3.0763936|\n",
      "|     19|    11|  2.9181192|\n",
      "|     13|    11|   2.795875|\n",
      "|     90|    11|   2.732246|\n",
      "|     72|    11|  1.6740944|\n",
      "|     37|    11|   1.303528|\n",
      "|     20|    11|  1.1530203|\n",
      "|     82|    11| 0.83206403|\n",
      "|     23|    11| 0.58731294|\n",
      "|     51|    11|  0.2553258|\n",
      "|     94|    11|-0.19854087|\n",
      "|     70|    11|  -1.343159|\n",
      "|      9|    11| -1.3819368|\n",
      "|     35|    11| -1.6634449|\n",
      "+-------+------+-----------+\n",
      "\n"
     ]
    }
   ],
   "source": [
    "recommendations.orderBy('prediction', ascending=False).show()"
   ]
  },
  {
   "cell_type": "code",
   "execution_count": null,
   "id": "be059854-778d-4eff-a09d-dbd61b37ce53",
   "metadata": {},
   "outputs": [],
   "source": []
  }
 ],
 "metadata": {
  "kernelspec": {
   "display_name": "Python 3 (ipykernel)",
   "language": "python",
   "name": "python3"
  },
  "language_info": {
   "codemirror_mode": {
    "name": "ipython",
    "version": 3
   },
   "file_extension": ".py",
   "mimetype": "text/x-python",
   "name": "python",
   "nbconvert_exporter": "python",
   "pygments_lexer": "ipython3",
   "version": "3.11.5"
  }
 },
 "nbformat": 4,
 "nbformat_minor": 5
}
